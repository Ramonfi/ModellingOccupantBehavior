{
 "cells": [
  {
   "cell_type": "markdown",
   "metadata": {},
   "source": [
    "# Entwicklung der empirischen Modelle"
   ]
  },
  {
   "cell_type": "markdown",
   "metadata": {},
   "source": [
    "Inhaltsverzeichnis\n",
    "- [Monte Carlo](#monte-carlo-simulation)\n",
    "- [Logit](#variante-2-logistisches-regressionsmodel-der-fensteröffnung)"
   ]
  },
  {
   "cell_type": "markdown",
   "metadata": {},
   "source": [
    "## Importe"
   ]
  },
  {
   "cell_type": "code",
   "execution_count": null,
   "metadata": {},
   "outputs": [],
   "source": [
    "#### Jupyter Einstellungen\n",
    "\n",
    "%load_ext autoreload\n",
    "%autoreload 2\n",
    "\n",
    "#### Python Importe\n",
    "\n",
    "from zoneinfo import ZoneInfo\n",
    "import locale\n",
    "import warnings\n",
    "import datetime as dt\n",
    "import time\n",
    "import os\n",
    "\n",
    "import seaborn as sns\n",
    "import matplotlib.pyplot as plt\n",
    "import matplotlib as mpl\n",
    "\n",
    "import math\n",
    "import numpy as np\n",
    "import pandas as pd\n",
    "from pandas import IndexSlice as IDX\n",
    "\n",
    "locale.setlocale(locale.LC_ALL, 'de_DE.UTF-8')\n",
    "tz = ZoneInfo('Europe/Berlin')\n",
    "\n",
    "from src.preprocessing import getDB, getLüftungsStats, getLüftungen, getLüftungsDatasets, removeUnoccupied\n",
    "import src.style as style\n",
    "import src.toolbox as tb\n",
    "from src.templates import plotCompareLüftungAPP, plotLüftung\n",
    "\n",
    "#### Datenbank Import\n",
    "\n",
    "try:\n",
    "    from src.preprocessing import BUID, ROOMS, APPS, DB, IND, AMB\n",
    "except ImportError:\n",
    "    getDB()\n",
    "    from src.preprocessing import BUID, ROOMS, APPS, DB, IND, AMB\n",
    "DB.head()"
   ]
  },
  {
   "cell_type": "markdown",
   "metadata": {},
   "source": [
    "# Ermittlung eines Lüftungsmodells"
   ]
  },
  {
   "cell_type": "markdown",
   "metadata": {},
   "source": [
    "## Monte-Carlo-Simulation"
   ]
  },
  {
   "cell_type": "code",
   "execution_count": null,
   "metadata": {},
   "outputs": [],
   "source": [
    "focus_rooms = ['SZ', 'WZ', 'K']\n",
    "_kind = 'box'\n",
    "catkwargs = {'box': {'kind':'box'}, 'violin' :{'kind':'violin', 'cut':0}}\n",
    "\n",
    "FREQ = '15min'"
   ]
  },
  {
   "cell_type": "code",
   "execution_count": null,
   "metadata": {},
   "outputs": [],
   "source": [
    "def createWindowSignal(freq, nSims, p_Window, d_Lüftungen, n_Lüftungen, exportto=None):\n",
    "    '''\n",
    "    freq:\n",
    "        Simulationszeitschritt\n",
    "    nSims:\n",
    "        Anzahl der zu erstellenden Varianten\n",
    "    p_Window:\n",
    "        Verteilungsfunktion der Fensteröffnung\n",
    "    d_Lüftung:\n",
    "        Grundgesamtheit der Lüftungsdauern\n",
    "    n_Lüftung:\n",
    "        Grundgesamtheit der Lüftungsanzahlen\n",
    "    '''\n",
    "    def getDuration(df, freq, d_Lüftungen, n_Lüftungen):\n",
    "        '''\n",
    "        df:\n",
    "            Fenstersignal (0, 1) für jeden Zeitschritt\n",
    "        freq:\n",
    "            Zeitschritt der Simulation\n",
    "        d_Lüftungen:\n",
    "            Grundgesamheit der Lüftungsdauern pro Tag\n",
    "        n_Lüftungen:\n",
    "            Grundgesamtheit der Lüftungsanzahl\n",
    "        '''\n",
    "\n",
    "        def _getDuration(x, freq):\n",
    "            '''\n",
    "            x: \n",
    "                row mit Argument \"Fenster\" (0, 1)\n",
    "            freq:\n",
    "                Simulationszeitschritt\n",
    "            Berechne die Lüftungsdauer pro Lüftungsvorgang.\n",
    "\n",
    "            Vorgehen:\n",
    "            1)  Wenn für ein Fenster eine Fensteröffnung definiert wurde, ziehe eine zufällige Öffnungsdauer pro Tag und eine zufällige Öffnungsanzahl pro Tag aus der Grundgesamtheit.\n",
    "            \n",
    "            2)  Berechne die die Dauer der einzelnen Lüftung aus $\\frac{d_{Lüftung}}{n_{Lüftung}}$\n",
    "\n",
    "            3)  Berechne den Zeitpunkt der Fensterschließung T_{close}\n",
    "\n",
    "            '''\n",
    "            if x.Fenster:\n",
    "                dur, = d_Lüftungen.groupby('Jahreszeit').get_group(x.season).dropna().sample().Öffnungsdauer\n",
    "                n, = n_Lüftungen.groupby('Jahreszeit').get_group(x.season).dropna().sample().Öffnungsanzahl\n",
    "                if n == 0:  return np.NaN\n",
    "                else:   return pd.to_timedelta(dur/n, unit='H').round(freq)\n",
    "            else:   return np.NaN\n",
    "        _df = pd.to_timedelta(df.apply(lambda x: _getDuration(x, freq=freq), axis=1).dropna())\n",
    "        _df = _df.to_frame().reset_index().set_axis(['open', 'close'], axis=1)\n",
    "        _df['close'] = _df.open+_df.close\n",
    "        return _df.stack().drop_duplicates(keep=False).reset_index(1).set_axis(['value', 'Datetime'], axis=1).set_index('Datetime').sort_index().reindex(df.index, method='ffill').replace(['close', np.NaN, 'open'], [False, False, True])\n",
    "    \n",
    "    dfs = []\n",
    "    for i in range(nSims):\n",
    "        window_signal = pd.DataFrame(index=pd.date_range('2021-01-01', '2022-01-01', freq=freq, inclusive='left'))\n",
    "        window_signal['season'] = tb.utils.getSeason(window_signal.index)\n",
    "        window_signal['HoD'] = window_signal.index.hour\n",
    "        window_signal[f'p'] = window_signal.apply(lambda x: p_Window.loc[x.HoD, x.season], axis=1)\n",
    "        window_signal[f't'] = window_signal.apply(lambda x: np.random.default_rng().uniform(0, 1), axis=1)\n",
    "        window_signal[f'Fenster'] = window_signal[f'p'] > window_signal[f't']\n",
    "        dfs.append(getDuration(window_signal, freq, d_Lüftungen, n_Lüftungen).set_axis([f'MC_SIG_{i}'], axis=1))\n",
    "        window_signal['duration'] = dfs[-1]\n",
    "    signal = pd.concat(dfs, axis=1)\n",
    "    \n",
    "    if exportto is not None:\n",
    "        dirname = os.path.dirname(exportto)\n",
    "        if not os.path.isdir(dirname) : os.makedirs(dirname)\n",
    "        signal.astype('float').to_csv(exportto, index=False, index_label='HoY')\n",
    "\n",
    "    return window_signal, signal"
   ]
  },
  {
   "cell_type": "markdown",
   "metadata": {},
   "source": [
    "1. Bestimmung der Lüftungshäufigkeit nach Jahreszeiten\n",
    "   1. Alle Daten\n",
    "   2. Bereionigt von Außreisern"
   ]
  },
  {
   "cell_type": "code",
   "execution_count": null,
   "metadata": {},
   "outputs": [],
   "source": [
    "n_Lüftungen = DB.loc[:,IDX[:,:,focus_rooms,'Fensteröffnung']].gt(0).groupby(level=[0,1], axis=1).max().resample('D').sum().stack([0,1]).rename('Öffnungsanzahl').reset_index()\n",
    "n_Lüftungen['Jahreszeit'] = tb.utils.getSeason(n_Lüftungen.Datetime)\n",
    "fig = plt.figure(**style.size(0.3, fr=0.4))\n",
    "ax = sns.boxplot(data=n_Lüftungen, x='Jahreszeit', y='Öffnungsanzahl', palette=style.CLRS)\n",
    "ax.set(title='Mit Ausreissern')\n",
    "ax.set(title=None, ylabel='Anzahl', xlabel=None)\n",
    "fig.tight_layout(pad=0.1)\n",
    "\n",
    "n_Lüftungen = tb.utils.removeOutliner(n_Lüftungen, col='Öffnungsanzahl',by='Jahreszeit')\n",
    "fig = plt.figure(**style.size(0.3, fr=0.4))\n",
    "ax = sns.boxplot(data=n_Lüftungen, x='Jahreszeit', y='Öffnungsanzahl', palette=style.CLRS)\n",
    "ax.set(title='Bereinigt von Außreisern')\n",
    "ax.set(title=None, ylabel='Anzahl', xlabel=None)\n",
    "fig.tight_layout(pad=0.1)"
   ]
  },
  {
   "cell_type": "markdown",
   "metadata": {},
   "source": [
    "2. Lüftungsdauer\n",
    "   1. Alle Daten\n",
    "   2.  Bereinigt von Außreisern"
   ]
  },
  {
   "cell_type": "code",
   "execution_count": null,
   "metadata": {},
   "outputs": [],
   "source": [
    "d_Lüftungen = DB.loc[:,IDX[:,:,focus_rooms,'Fenster']].groupby(level=[0,1], axis=1).max().resample('D').sum().stack([0,1]).rename('Öffnungsdauer').reset_index()\n",
    "d_Lüftungen['Jahreszeit'] = tb.utils.getSeason(d_Lüftungen.Datetime)\n",
    "d_Lüftungen['Öffnungsdauer'] = d_Lüftungen['Öffnungsdauer'].where(lambda x: x == 0, lambda x: x.apply(lambda x1: pd.to_timedelta(x1, unit='min')).round(FREQ).dt.total_seconds()/60/60)\n",
    "fig = plt.figure(**style.size(0.3, fr=0.4))\n",
    "ax = sns.boxplot(data=d_Lüftungen, x='Jahreszeit', y='Öffnungsdauer', palette=style.CLRS)\n",
    "ax.set(title='Mit Ausreissern')\n",
    "ax.set(title=None, ylabel='Dauer [\\si{\\minute}]', xlabel=None)\n",
    "fig.tight_layout(pad=0.1)\n",
    "\n",
    "d_Lüftungen = tb.utils.removeOutliner(d_Lüftungen, col='Öffnungsdauer', by='Jahreszeit')\n",
    "fig = plt.figure(**style.size(0.3, fr=0.4))\n",
    "ax = sns.boxplot(data=d_Lüftungen, x='Jahreszeit', y='Öffnungsdauer', palette=style.CLRS)\n",
    "ax.set(title='Bereinigt von Außreisern')\n",
    "ax.set(title=None, ylabel='Dauer [\\si{\\minute}]', xlabel=None)\n",
    "fig.tight_layout(pad=0.1)"
   ]
  },
  {
   "cell_type": "markdown",
   "metadata": {},
   "source": [
    "3. Erstelle Verteilungsfunktion über den Tagesverlauf"
   ]
  },
  {
   "cell_type": "code",
   "execution_count": null,
   "metadata": {},
   "outputs": [],
   "source": [
    "df = DB.loc[:, IDX[:,:,focus_rooms,'Fensteröffnung']].groupby(level=[0,1], axis=1).max()\n",
    "df = removeUnoccupied(df[df > 0].resample(FREQ).max().fillna(0))\n",
    "df = df.groupby(df.index.date).cumsum(skipna=True).mean(axis=1).reset_index()\n",
    "df['season'] = tb.utils.getSeason(df.Datetime)\n",
    "df = df.set_index(['season','Datetime'])\n",
    "df = df.groupby(['season', df.index.get_level_values(1).hour + df.index.get_level_values(1).minute/60]).mean()\n",
    "P = df.groupby('season').diff().fillna(0).unstack('season').stack().reset_index().rename(columns={0:'value'})\n",
    "CDF = df.unstack('season').stack().reset_index().rename(columns={0:'value'})"
   ]
  },
  {
   "cell_type": "markdown",
   "metadata": {},
   "source": [
    "    1. Wahrscheinlichkeitsdichte"
   ]
  },
  {
   "cell_type": "code",
   "execution_count": null,
   "metadata": {},
   "outputs": [],
   "source": [
    "# Lineplot\n",
    "fig = plt.figure(**style.size(.3))\n",
    "ax = sns.lineplot(data=P, x='Datetime', y='value', hue='season', palette=style.CLRS)\n",
    "ax.set(ylabel='$P_{Fensteröffnung}(t, S)$', xlabel='Uhrzeit $(t)$')\n",
    "#fig.suptitle('Wahrscheinlichkeitverteilung der Fensteröffnung über den Tag')\n",
    "sns.move_legend(ax, bbox_to_anchor=[.5,1], loc='lower center', ncol=3, frameon=False, title='Jahreszeit $(S)$')\n",
    "ax.set_ylim(0,0.1)\n",
    "style.datemapaxis(ax, 'x')\n",
    "fig.tight_layout()\n",
    "\n",
    "#   Heatmap\n",
    "fig = plt.figure(**style.size(.3))\n",
    "ax = sns.heatmap(data=P.pivot_table(columns='season', index='Datetime', values='value'),vmin=0, annot=False, fmt='.2f', cmap=style.Reds)\n",
    "#fig.suptitle('Häufigkeitskeitverteilung der Fensteröffnung über den Tag')\n",
    "ax.set(ylabel='Uhrzeit $(t)$', xlabel=None)\n",
    "style.datemapaxis(ax)\n",
    "fig.tight_layout()\n",
    "\n",
    "P.head()"
   ]
  },
  {
   "cell_type": "markdown",
   "metadata": {},
   "source": [
    "    2. Kummulierte Wahrscheinlichkeitsdichte"
   ]
  },
  {
   "cell_type": "code",
   "execution_count": null,
   "metadata": {},
   "outputs": [],
   "source": [
    "## Schritt 2A: All-in-One\n",
    "fig = plt.figure(**style.size(.3))\n",
    "ax = sns.lineplot(data=CDF, x='Datetime', y='value', color='k', linestyle='dashed', label='Mittelwert')\n",
    "ax = sns.lineplot(data=CDF, x='Datetime', y='value', hue='season', palette=style.CLRS, lw=.75)\n",
    "ax.get_legend().remove()\n",
    "ax.set(xticks=np.arange(0,26,2), xlim=(0,24), xlabel='Tageszeit', title='CDF \"separiert\"')\n",
    "style.datemapaxis(ax, 'x')\n",
    "fig.legend(ncol=4, bbox_to_anchor=(1,1), loc='lower right')\n",
    "ax.set(title=None, xlabel='Uhrzeit $(t)$', ylabel='$F_{Fenster}(t)$')\n",
    "fig.tight_layout(pad=0.1)\n",
    "CDF.head()"
   ]
  },
  {
   "cell_type": "markdown",
   "metadata": {},
   "source": [
    "4. Erstelle Vorhersage für eine Jahreszeit und berechne SSE als Gütemaß"
   ]
  },
  {
   "cell_type": "code",
   "execution_count": null,
   "metadata": {},
   "outputs": [],
   "source": [
    "from sklearn.metrics import r2_score\n",
    "focus = ('Übergang')\n",
    "p_Window = P.pivot_table(values='value', index='Datetime', columns=['season']).rename_axis('HoD')\n",
    "rng = np.random.default_rng(5)\n",
    "n = 365\n",
    "pred_Window = pd.concat([pd.Series(rng.uniform(0,1,24*4), index=p_Window.index) < p_Window[focus] for i in range(n)]).reset_index().rename(columns={'index':'HoD', 0:'FensterIO'})\n",
    "SSE = np.power(p_Window[focus] - pred_Window.groupby('HoD').mean().squeeze(), 2).sum()\n",
    "r2 = r2_score(p_Window[focus], pred_Window.groupby('HoD').mean().squeeze()).round(2)\n",
    "fig = plt.figure(**style.size(.3))\n",
    "ax = sns.lineplot(data=p_Window[focus], color=style.CLRS[focus], label='Beobachtung')\n",
    "ax = sns.lineplot(data=pred_Window.groupby('HoD').mean().squeeze(), color=style.CLRS[focus], ls='dashed', label='Simulation')\n",
    "sns.move_legend(ax, bbox_to_anchor=[1,.9], loc='lower right', frameon=False, ncol=3, title=None)\n",
    "ax.text(0.01,.9,f'Jahreszeit (S): {focus}\\nn: {n}\\n$R^2$: {r2:.2n}', transform=ax.transAxes, ha='left', va='bottom')\n",
    "style.datemapaxis(ax, 'x')\n",
    "ax.set(xlabel='Uhrzeit $(t)$', ylabel='$P_{Fensteröffnung}(t, S)$')\n",
    "fig.tight_layout(pad=0.1)"
   ]
  },
  {
   "cell_type": "markdown",
   "metadata": {},
   "source": [
    "5. Erstelle eine Vorhersage für ein Ganzes Jahr"
   ]
  },
  {
   "cell_type": "code",
   "execution_count": null,
   "metadata": {},
   "outputs": [],
   "source": [
    "window_signal, signal = createWindowSignal(\n",
    "    freq = FREQ, \n",
    "    nSims = 1, \n",
    "    p_Window = p_Window, \n",
    "    d_Lüftungen = d_Lüftungen, \n",
    "    n_Lüftungen = n_Lüftungen,\n",
    "    #exportto = './sim/robust-inputs/MC_signal.csv'\n",
    "    )\n",
    "window_signal"
   ]
  },
  {
   "cell_type": "code",
   "execution_count": null,
   "metadata": {},
   "outputs": [],
   "source": [
    "fig = plt.figure(**style.size(.3))\n",
    "df = window_signal['duration'].resample('H').mean().resample('D').sum()\n",
    "ax = df.plot(lw=.8)\n",
    "ax.yaxis.set_major_locator(mpl.ticker.MaxNLocator(steps=[1,2,4,6,10]))\n",
    "ax.set(ylabel='Stunden')\n",
    "ax.set_yticks(np.arange(0,28,4))\n",
    "ax.xaxis.set_major_locator(mpl.dates.MonthLocator(interval=1))\n",
    "ax.xaxis.set_major_formatter(mpl.dates.DateFormatter('%b'))\n",
    "ax.text(0.01,1,f'Zeitschritt: {FREQ}\\nn: {len(window_signal.resample(\"D\").size())}Tage', transform=ax.transAxes, ha='left', va='top')\n",
    "fig.tight_layout()"
   ]
  },
  {
   "cell_type": "markdown",
   "metadata": {},
   "source": [
    "6. Vergleiche die Vorhersage mit den Messdaten"
   ]
  },
  {
   "cell_type": "code",
   "execution_count": null,
   "metadata": {},
   "outputs": [],
   "source": [
    "window_observations = DB.loc[:,IDX[:,:,['SZ'],['Fenster']]].resample('H').mean().resample('D').sum(min_count=1).dropna(how='all').groupby(level=[0,1,3], axis=1).mean()\n",
    "_df = (window_observations.stack([0,1])\n",
    "                    .reset_index(drop=True)\n",
    "                    .join(signal.sample(axis=1).resample('H').mean().resample('D').sum().reset_index(drop=True).squeeze().rename('Simulation'))\n",
    "                    .stack()\n",
    "                    .reset_index(1)\n",
    "                    .join(pd.Series('SZ', name='room')).fillna(method='ffill')\n",
    "                    .set_axis(['type', 'Fenster', 'room'],axis=1)\n",
    "                    .reset_index(drop=True)\n",
    "                    .replace({'Fenster': 'Beobachtung'})\n",
    "                    )\n",
    "df = _df.pivot(columns = 'type', values='Fenster')"
   ]
  },
  {
   "cell_type": "code",
   "execution_count": null,
   "metadata": {},
   "outputs": [],
   "source": [
    "fig = plt.figure(**style.size(.2))\n",
    "ax = sns.violinplot(data=_df.replace(style.NAMES), x='Fenster', y='room', hue='type', cut=0, split=True, orient='h')\n",
    "ax.set(ylabel=None, xlabel='Stunden')\n",
    "ax.set_xticks(np.arange(0,26,2))\n",
    "ax.get_legend().remove()\n",
    "ax.yaxis.set_visible(False)\n",
    "fig.legend(ncol=2, bbox_to_anchor=(1,.9), loc='lower right')\n",
    "fig.tight_layout(pad=0.1)"
   ]
  },
  {
   "cell_type": "code",
   "execution_count": null,
   "metadata": {},
   "outputs": [],
   "source": [
    "fig = plt.figure(**style.size(.2))\n",
    "ax = sns.boxplot(data=_df.replace(style.NAMES), y='room', x='Fenster', hue='type', orient='horizontal', meanline=True, showmeans=True, notch=True)\n",
    "ax.set(ylabel=None, xlabel='Stunden')\n",
    "ax.get_legend().remove()\n",
    "ax.set_xticks(np.arange(0,26,2))\n",
    "ax.yaxis.set_visible(False)\n",
    "fig.legend(ncol=2, bbox_to_anchor=(1,.9), loc='lower right')\n",
    "fig.tight_layout(pad=0.1)"
   ]
  },
  {
   "cell_type": "code",
   "execution_count": null,
   "metadata": {},
   "outputs": [],
   "source": [
    "tb.stats.qqplot(df.iloc[:,0].dropna(), df.iloc[:,1].dropna(), test='None', plot_kws=dict(markerfacecolor='none', markeredgecolor='k'))"
   ]
  },
  {
   "cell_type": "markdown",
   "metadata": {},
   "source": [
    "## Variante 2) Logistisches Regressionsmodel der Fensteröffnung\n",
    "___\n",
    "[Zum Import](#importe)"
   ]
  },
  {
   "cell_type": "code",
   "execution_count": null,
   "metadata": {},
   "outputs": [],
   "source": [
    "from sklearn.linear_model import LogisticRegressionCV, LogisticRegression\n",
    "from sklearn.feature_selection import SequentialFeatureSelector, SelectFromModel\n",
    "from sklearn.preprocessing import StandardScaler\n",
    "from sklearn.metrics import auc, RocCurveDisplay\n",
    "from sklearn.model_selection import StratifiedKFold\n",
    "\n",
    "from src.preprocessing import getOccupied, removeUnoccupied, removeHolidays, getData\n",
    "from src.style import TexMapper\n",
    "from time import time\n",
    "import itertools\n",
    "\n",
    "def exportLogModel(scaler, classifier, y=None, timestep=1, n=5, path='sim/robust-inputs', export=True, TexName=None):\n",
    "    params = pd.DataFrame([scaler.mean_, scaler.scale_, classifier.coef_[0], classifier.intercept_], index = ['mean', 'scale', 'coeff', 'intercept'], columns = scaler.feature_names_in_).rename(columns={'Übergang':'Uebergang'})\n",
    "    scale = 1\n",
    "    if y is not None:\n",
    "        from sklearn.preprocessing import LabelEncoder\n",
    "        le = LabelEncoder()\n",
    "        y_ind = le.fit_transform(y)\n",
    "        if not all(np.in1d(classifier.classes_, le.classes_)):\n",
    "            raise ValueError(\"classes should have valid labels that are in y\")\n",
    "\n",
    "        recip_freq = len(y) / (len(le.classes_) * np.bincount(y_ind).astype(np.float64))\n",
    "        weight = recip_freq[le.transform(classifier.classes_)]\n",
    "        scale = (weight/weight[0])[1]\n",
    "\n",
    "    proba = pd.DataFrame(np.random.default_rng().uniform(0,1*scale, (8760*int(1/timestep), n)), columns = [f'LogReg_PROBA_{i}' for i in range(n)])\n",
    "\n",
    "    if export:\n",
    "        params.to_csv(os.path.join(path, 'logreg_params.csv'))\n",
    "        proba.to_csv(os.path.join(path, 'logreg_proba.csv'), index=False, index_label='HoY')\n",
    "        \n",
    "    if TexName is not None:\n",
    "        exportParameterTable(params, filename=f'LogReg_params_{TexName}')\n",
    "    print(params)\n",
    "    return params, proba\n",
    "\n",
    "def exportParameterTable(params, filename='LogReg_params'):\n",
    "    (params\n",
    "    .rename(index = {'coeff': r'$\\beta_k$', 'intercept': r'$\\beta_0$', 'mean': r'$\\overline{x}_k$', 'scale':r'$\\sigma_k$'},columns=TexMapper)\n",
    "    .rename_axis(['Prädikatoren'], axis=1)\n",
    "    .style\n",
    "    .format(precision=1, escape='latex')\n",
    "    .to_latex(\n",
    "        f'./LaTex/tbls/tbl_emp_{filename}.tex',\n",
    "        caption='Bestimmte Regressionskoeffizienten $\\\\beta_k$, $\\\\beta_0$ sowie die Skalierungsfaktoren $\\\\overline{x}_k$ und $\\\\sigma_k$ für die ausgewählten Prädiktoren',\n",
    "        clines=\"skip-last;data\",\n",
    "        siunitx=True,\n",
    "        hrules=True,\n",
    "        position= 'H',\n",
    "        position_float=\"centering\",\n",
    "        multicol_align=\"|c|\",\n",
    "        label='tbl:ParamsRegression')\n",
    "        )\n",
    "\n",
    "def Regressionsanalyse(dataset=None, exog=None, CRIT=None, ci=95, ax=None, toTex=None, hist_kws=dict(), **axis_kws):\n",
    "    if dataset is not None and exog is None and CRIT is None: \n",
    "        if dataset.shape[1] == 2:\n",
    "            exog = dataset.columns[0]\n",
    "            CRIT = dataset.columns[1]\n",
    "            df = dataset\n",
    "    elif exog is not None and CRIT is not None and dataset is None:\n",
    "        df = pd.concat([exog, CRIT], axis=1)\n",
    "        exog = exog.Name\n",
    "        CRIT = exog.CRIT\n",
    "    elif dataset is not None and isinstance(exog, str) and isinstance(CRIT, str):\n",
    "        df = dataset[[exog, CRIT]]\n",
    "    else:\n",
    "        raise AttributeError('Inputs falsch definiert')\n",
    "    \n",
    "    data = df.where(lambda x: x[exog].between(*tb.stats.ci(x[exog], which=ci))).dropna()\n",
    "    x = data[exog].values.reshape(-1, 1)\n",
    "    y = data[CRIT]\n",
    "\n",
    "    scaler = StandardScaler().fit(x)\n",
    "    rg = LogisticRegressionCV(solver='liblinear', class_weight='balanced', fit_intercept=True).fit(scaler.transform(x), y)\n",
    "\n",
    "    x_pred = np.linspace(df[exog].min(),df[exog].max(), 100).reshape(-1, 1)\n",
    "\n",
    "    y_pred = rg.predict_proba(scaler.transform(x_pred))[:,1]\n",
    "    if ax is None:\n",
    "        fig, ax = plt.subplots(**style.size(.4, fraction=.4))\n",
    "    ax = sns.histplot(data=df, x=exog, y=CRIT, **hist_kws)\n",
    "    ax.plot(x_pred, y_pred, color=style.clrs[1], marker='v', markevery=10)\n",
    "    ax.set(**axis_kws)\n",
    "    test = f'$\\\\beta_0$: {rg.intercept_[0]:.2n}\\n$\\\\beta_1$: {rg.coef_[0][0]:.2n}'\n",
    "    ax.text(0.05,0.85,test, va='top', ha='left', transform=ax.transAxes, bbox=style.bbox_props)\n",
    "    ax.grid(axis='both')\n",
    "    fig.tight_layout()\n",
    "    if isinstance(toTex, str):\n",
    "        style.toTex('desc', f'LogReg_{exog}_{CRIT}_{toTex}')\n",
    "    return ax\n",
    "\n",
    "def addInteraction(df, columns_A, columns_B):\n",
    "    for combo in itertools.product(columns_A, columns_B):\n",
    "        df['x'.join(combo)] = df[combo[0]] * df[combo[1]]\n",
    "    return df"
   ]
  },
  {
   "cell_type": "code",
   "execution_count": null,
   "metadata": {},
   "outputs": [],
   "source": [
    "CRIT = 'Fenster'\n",
    "freq = '15min'\n",
    "feature_names = ['Tair', 'Rh', 'g_abs', 'Rh_amb', 'CO2', 'T_amb', 'T_amb_g24']\n",
    "dataset = pd.concat(\n",
    "        [\n",
    "        getData(value=feature_names, app=['N', 'S'], room=['SZ', 'WZ', 'K'], occupied=True).groupby(level=[0,1,3], axis=1).median().resample(freq).mean().stack([0,1]),\n",
    "        getData(value=['Fenster'], app=['N', 'S'], room=['SZ', 'WZ', 'K'], occupied=True).where(lambda x: x>0).groupby(level=[0,1,3], axis=1).sum(min_count=1).resample(freq).sum().stack([0,1]),\n",
    "        getData(value=['Fensteröffnung'], app=['N', 'S'], room=['SZ', 'WZ', 'K'], occupied=True).where(lambda x: x>0).groupby(level=[0,1,3], axis=1).sum(min_count=1).resample(freq).sum().stack([0,1]),\n",
    "        getData(value=['Fensteröffnung'], app=['N', 'S'], room=['SZ', 'WZ', 'K'], occupied=True).where(lambda x: x<0).groupby(level=[0,1,3], axis=1).sum(min_count=1).resample(freq).sum().stack([0,1]).set_axis(['Fensterschließung'], axis=1).abs()\n",
    "        ], axis=1).round(2).dropna().reset_index()\n",
    "dataset = dataset.assign(deltaT = lambda x: x.T_amb - x.Tair)\n",
    "dataset = dataset.join(AMB[['windspeed', 'global']], on='Datetime').dropna()\n",
    "steps = 6\n",
    "DayRange = [f'{x1}h bis {x2}h' for x1, x2 in zip(np.arange(0,24+steps,steps), np.arange(steps, 24+steps, steps))]\n",
    "dataset = dataset.merge(pd.get_dummies(pd.cut(dataset.Datetime.dt.hour, bins=np.arange(0,24+steps,steps), labels = DayRange, right=False)), right_index=True, left_index=True)\n",
    "dataset = dataset.merge(pd.get_dummies(tb.utils.getSeason(dataset.Datetime.dt.month)), right_index=True, left_index=True)\n",
    "fixedEffects = [*DayRange,'Sommer', 'Winter', 'Übergang']\n",
    "dataset['Fenster'] = (dataset['Fenster'] > 0).astype(int)\n",
    "dataset['Fensterschließung'] = (dataset['Fensterschließung'] > 0).astype(int)\n",
    "dataset['Fensteröffnung'] = (dataset['Fensteröffnung'] > 0).astype(int)\n",
    "\n",
    "dataset = dataset.drop(['bui', 'app', 'Datetime'], axis=1).round(1)\n",
    "#dataset = addInteraction(dataset, DayRange, ['Sommer', 'Winter', 'Übergang', 'CO2', 'deltaT'])\n",
    "\n",
    "print(dataset.shape)\n",
    "\n",
    "dataset.head()"
   ]
  },
  {
   "cell_type": "markdown",
   "metadata": {},
   "source": [
    "## Zusammenfassung des Datensatzes"
   ]
  },
  {
   "cell_type": "code",
   "execution_count": null,
   "metadata": {},
   "outputs": [],
   "source": [
    "(dataset.describe(include='all').T\n",
    ".rename(columns={'25%':r'$\\SI{25}{\\percent}$', '50%':r'$\\SI{50}{\\percent}$', '75%':r'$\\SI{75}{\\percent}$'}, index=TexMapper)\n",
    ".rename_axis(['Prädiktoren'])\n",
    ".style\n",
    ".format(precision=1, escape='latex')\n",
    ")"
   ]
  },
  {
   "cell_type": "markdown",
   "metadata": {},
   "source": [
    "a) Korrelationen"
   ]
  },
  {
   "cell_type": "code",
   "execution_count": null,
   "metadata": {},
   "outputs": [],
   "source": [
    "tb.stats.CorreleationMatrix(dataset, highlights=[CRIT])"
   ]
  },
  {
   "cell_type": "markdown",
   "metadata": {},
   "source": [
    "b) Variance Inflation Factor"
   ]
  },
  {
   "cell_type": "code",
   "execution_count": null,
   "metadata": {},
   "outputs": [],
   "source": [
    "tb.stats.VIFMatrix(dataset, tresh=5, triangular=True, annot=False)"
   ]
  },
  {
   "cell_type": "markdown",
   "metadata": {},
   "source": [
    "### Demonstration der Skalierung"
   ]
  },
  {
   "cell_type": "code",
   "execution_count": null,
   "metadata": {},
   "outputs": [],
   "source": [
    "def plotHisto(_x):\n",
    "    mean_ = _x.mean()\n",
    "    std_ = _x.std()\n",
    "    fig = plt.figure(**style.size(.3))\n",
    "    ax = sns.histplot(data=_x, bins=20, fill=False, color='k', lw=1)\n",
    "    ax.axvline(x=mean_, c='k', ls='dashed', lw=2, label=r'$\\overline{x}$')\n",
    "    ax.axvline(x=mean_-std_, c='k', ls='dashdot', lw=2, label=r'$\\overline{x}\\pm\\sigma^2$')\n",
    "    ax.axvline(x=mean_+std_, c='k', ls='dashdot', lw=2)\n",
    "    ax.xaxis.set_major_locator(mpl.ticker.MaxNLocator(steps=[1,2,5,10]))\n",
    "    ax.set(xlabel=r'Prädikator \\emph{Außenlufttemperatur [\\si{\\celsius}]}', ylabel=r'abs. Häufigkeit')\n",
    "    ax.legend()\n",
    "    fig.tight_layout()\n",
    "\n",
    "_x = dataset['T_amb']\n",
    "plotHisto(_x)\n",
    "\n",
    "mean_ = _x.mean()\n",
    "std_ = _x.std()\n",
    "_x = (_x - mean_) / std_\n",
    "plotHisto(_x)"
   ]
  },
  {
   "cell_type": "markdown",
   "metadata": {},
   "source": [
    "### Gewichtung"
   ]
  },
  {
   "cell_type": "code",
   "execution_count": null,
   "metadata": {},
   "outputs": [],
   "source": [
    "y = dataset[CRIT]\n",
    "\n",
    "fig = plt.figure(**style.size(.2))\n",
    "ax = sns.histplot(y=y, discrete=True, fill=False, color='k', lw=1)\n",
    "p1 = ax.containers[0]\n",
    "\n",
    "ax.bar_label(p1, labels = [f'{n} ({pct*100:.2n} \\\\si{{\\\\percent}})' for n, pct in zip(y.value_counts(), y.value_counts(normalize=True))], label_type='center')\n",
    "ax.set(ylabel=None, xlabel=f'abs. Häufigkeit {CRIT}')\n",
    "ax.set_yticks([0, 1], [r'Geschlossen | 0', r'Geöffnet | 1'])\n",
    "fig.tight_layout()"
   ]
  },
  {
   "cell_type": "markdown",
   "metadata": {},
   "source": [
    "## Wahl der Prädikatoren"
   ]
  },
  {
   "cell_type": "markdown",
   "metadata": {},
   "source": [
    "### 1) SelectFromModel"
   ]
  },
  {
   "cell_type": "code",
   "execution_count": null,
   "metadata": {},
   "outputs": [],
   "source": [
    "X = dataset.drop([CRIT,'Fensteröffnung', 'Fensterschließung'], axis=1).astype('float')\n",
    "y = dataset[CRIT].astype('float')\n",
    "\n",
    "feature_names = np.array(X.columns)\n",
    "\n",
    "# Scaliere den Datensatz auf Normalverteilung\n",
    "scaler = StandardScaler().fit(X)\n",
    "\n",
    "# Führe einen ersten Fit mit Cross-Validation durch.\n",
    "log_reg = LogisticRegressionCV(solver='liblinear', class_weight='balanced', scoring='roc_auc').fit(scaler.transform(X), y)\n",
    "importance = pd.DataFrame(log_reg.coef_, columns=feature_names, index=['coef']).T.sort_values('coef', key=abs, ascending=False)\n",
    "\n",
    "#Auswahl der Prädikatoren\n",
    "threshold = abs(importance.iat[3, 0]) + 0.01\n",
    "print(f'Grenzwert für Featurewahl: {threshold:.2n}')\n",
    "\n",
    "tic = time()\n",
    "sfm = SelectFromModel(log_reg, threshold=threshold).fit(scaler.transform(X), y)\n",
    "#sfm = SelectFromModel(log_reg).fit(scaler.transform(X), y)\n",
    "toc = time()\n",
    "sfm_features = feature_names[sfm.get_support()]\n",
    "\n",
    "#Betrachte die Koeffizienten der Prädikatoren und wähle die drei mit dem höchsten Einfluss aus.\n",
    "fig, ax = plt.subplots(**style.size(.4))\n",
    "ax.bar(height=importance.coef, x=feature_names, fill=False, color='k', lw=1)\n",
    "ax.set(ylabel='$Koeffizient \\\\beta$')\n",
    "ax.tick_params(axis='x', labelrotation= 90)\n",
    "ax.bar(height=importance.loc[sfm_features,:].squeeze(), x=sfm_features, fill=False, hatch='///', color='k', lw=1)\n",
    "fig.tight_layout\n",
    "\n",
    "print(f\"Features selected by SelectFromModel: {sfm_features}\")\n",
    "print(f\"Done in {toc - tic:.3f}s\")"
   ]
  },
  {
   "cell_type": "code",
   "execution_count": null,
   "metadata": {},
   "outputs": [],
   "source": [
    "# Trainiere ein neues Modell mit den soeben ausgewählten Prädikatoren\n",
    "X = dataset[sfm_features].astype('float')\n",
    "y = dataset[CRIT].astype('float')\n",
    "\n",
    "logreg, scaler = tb.stats.ROCplot(X, y)\n",
    "params, t_prob = exportLogModel(scaler, logreg, timestep=.25, n=5,export=False)\n",
    "params"
   ]
  },
  {
   "cell_type": "markdown",
   "metadata": {},
   "source": [
    "### 2) Backward Selection"
   ]
  },
  {
   "cell_type": "code",
   "execution_count": null,
   "metadata": {},
   "outputs": [],
   "source": [
    "X = dataset.drop([CRIT,'Fensteröffnung', 'Fensterschließung'], axis=1).astype('float')\n",
    "y = dataset[CRIT].astype('float')\n",
    "\n",
    "feature_names = np.array(X.columns)\n",
    "print(feature_names)\n",
    "\n",
    "scaler = StandardScaler().fit(X)\n",
    "\n",
    "log_reg = LogisticRegressionCV(solver='liblinear', class_weight='balanced', scoring='roc_auc').fit(scaler.transform(X), y)\n",
    "\n",
    "tic_bwd = time()\n",
    "sfs_backward = SequentialFeatureSelector(log_reg, n_features_to_select=3, direction=\"backward\").fit(scaler.transform(X), y)\n",
    "toc_bwd = time()\n",
    "print(\n",
    "    \"Features selected by forward sequential selection: \"\n",
    "    f\"{feature_names[sfs_backward.get_support()]}\"\n",
    ")\n",
    "print(f\"Done in {toc_bwd - tic_bwd:.3f}s\")\n",
    "\n",
    "X = dataset[['CO2', 'T_amb_g24', 'deltaT']].astype('float')\n",
    "y = dataset['Fenster'].astype('float')\n",
    "\n",
    "classifier, scaler = tb.stats.ROCplot(X,y)"
   ]
  },
  {
   "cell_type": "markdown",
   "metadata": {},
   "source": [
    "### 3) Forward Selection"
   ]
  },
  {
   "cell_type": "code",
   "execution_count": null,
   "metadata": {},
   "outputs": [],
   "source": [
    "X = dataset.drop([CRIT,'Fensteröffnung', 'Fensterschließung'], axis=1).astype('float')\n",
    "y = dataset[CRIT].astype('float')\n",
    "\n",
    "feature_names = np.array(X.columns)\n",
    "print(feature_names)\n",
    "\n",
    "scaler = StandardScaler().fit(X)\n",
    "\n",
    "log_reg = LogisticRegressionCV(solver='liblinear', class_weight='balanced', scoring='roc_auc').fit(scaler.transform(X), y)\n",
    "importance = pd.DataFrame(log_reg.coef_, columns=feature_names, index=['coef']).T.sort_values('coef', key=abs, ascending=False)\n",
    "\n",
    "tic_fwd = time()\n",
    "sfs_forward = SequentialFeatureSelector(log_reg, n_features_to_select=3, direction=\"forward\").fit(scaler.transform(X), y)\n",
    "toc_fwd = time()\n",
    "print(\n",
    "    \"Features selected by forward sequential selection: \"\n",
    "    f\"{feature_names[sfs_forward.get_support()]}\"\n",
    ")\n",
    "print(f\"Done in {toc_fwd - tic_fwd:.3f}s\")"
   ]
  },
  {
   "cell_type": "code",
   "execution_count": null,
   "metadata": {},
   "outputs": [],
   "source": [
    "#X = dataset[feature_names[sfs_forward.get_support()]].astype('float')\n",
    "X = dataset[['CO2', 'Rh_amb', 'deltaT']].astype('float')\n",
    "\n",
    "y = dataset['Fenster'].astype('float')\n",
    "\n",
    "classifier, scaler = tb.stats.ROCplot(X,y)\n",
    "style.toTex('emp', 'ROCplot_feature_forward')"
   ]
  },
  {
   "cell_type": "markdown",
   "metadata": {},
   "source": [
    "### 4) ROMANs Finale Auswahl"
   ]
  },
  {
   "cell_type": "code",
   "execution_count": null,
   "metadata": {},
   "outputs": [],
   "source": [
    "features = ['deltaT', 'CO2', 'T_amb_g24']\n",
    "\n",
    "X = dataset[features].astype('float')\n",
    "y = dataset[CRIT].astype('float')\n",
    "logreg, scaler = tb.stats.ROCplot(X, y)\n",
    "\n",
    "params, t_prob = exportLogModel(scaler, logreg, y, timestep=.25, n=20, TexName='Model', export=False)"
   ]
  },
  {
   "cell_type": "code",
   "execution_count": null,
   "metadata": {},
   "outputs": [],
   "source": [
    "# Trainiere ein neues Modell mit den soeben ausgewählten Prädikatoren\n",
    "X = dataset[np.append(features, np.array(fixedEffects, dtype='object'))].astype('float')\n",
    "y = dataset[CRIT].astype('float')\n",
    "\n",
    "logreg, scaler = tb.stats.ROCplot(X, y)"
   ]
  }
 ],
 "metadata": {
  "interpreter": {
   "hash": "d2bbd673ed203fa94c3e520133942a95295ac920eebe69877f0a14137eedd429"
  },
  "kernelspec": {
   "display_name": "Python 3.10.2 ('robustbauen')",
   "language": "python",
   "name": "python3"
  },
  "language_info": {
   "codemirror_mode": {
    "name": "ipython",
    "version": 3
   },
   "file_extension": ".py",
   "mimetype": "text/x-python",
   "name": "python",
   "nbconvert_exporter": "python",
   "pygments_lexer": "ipython3",
   "version": "3.10.4"
  },
  "orig_nbformat": 4
 },
 "nbformat": 4,
 "nbformat_minor": 2
}
